{
 "cells": [
  {
   "cell_type": "markdown",
   "id": "6df8ba46",
   "metadata": {},
   "source": [
    "нужно реализовать функцию check_fibonacci,\n",
    "которая принимает последовательность целых чисел и проверяет,\n",
    "является ли эта последовательность последовательностью Фибоначчи. \n",
    "Последовательность Фибоначчи начинается с 0 и 1, и каждое следующее число является суммой двух предыдущих"
   ]
  },
  {
   "cell_type": "code",
   "execution_count": 8,
   "id": "4268a41b",
   "metadata": {},
   "outputs": [
    {
     "name": "stdout",
     "output_type": "stream",
     "text": [
      "True\n",
      "False\n",
      "True\n",
      "False\n",
      "False\n"
     ]
    }
   ],
   "source": [
    "def check_fibonacci(sequence):\n",
    "    #проверяем, что последовательность содержит хотя бы два элемента\n",
    "    if len(sequence) < 2:\n",
    "        return False\n",
    "    \n",
    "    #проверяем, что первые два элемента равны 0 и 1\n",
    "    if sequence[0] != 0 or sequence[1] != 1:\n",
    "        return False\n",
    "    \n",
    "    #проверяем остальные элементы\n",
    "    for i in range(2, len(sequence)):\n",
    "        if sequence[i] != sequence[i - 1] + sequence[i - 2]:\n",
    "            return False\n",
    "            \n",
    "    return True\n",
    "\n",
    "#примеры \n",
    "print(check_fibonacci([0, 1, 1, 2, 3, 5, 8, 13]))  #True\n",
    "print(check_fibonacci([0, 1, 1, 2, 3, 5, 8, 14]))  #False\n",
    "print(check_fibonacci([0, 1]))                      #True\n",
    "print(check_fibonacci([1, 1, 2, 3, 5, 8, 13]))     #False\n",
    "print(check_fibonacci([1, 0]))                      #False"
   ]
  },
  {
   "cell_type": "code",
   "execution_count": null,
   "id": "b09fb063",
   "metadata": {},
   "outputs": [],
   "source": []
  }
 ],
 "metadata": {
  "kernelspec": {
   "display_name": "Python 3 (ipykernel)",
   "language": "python",
   "name": "python3"
  },
  "language_info": {
   "codemirror_mode": {
    "name": "ipython",
    "version": 3
   },
   "file_extension": ".py",
   "mimetype": "text/x-python",
   "name": "python",
   "nbconvert_exporter": "python",
   "pygments_lexer": "ipython3",
   "version": "3.11.5"
  }
 },
 "nbformat": 4,
 "nbformat_minor": 5
}
