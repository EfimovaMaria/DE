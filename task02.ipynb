{
 "cells": [
  {
   "cell_type": "code",
   "execution_count": 8,
   "id": "a39bf232",
   "metadata": {},
   "outputs": [],
   "source": [
    "\"\"\"нужно реализовать функцию check_fibonacci,\n",
    "которая принимает последовательность целых чисел и проверяет,\n",
    "является ли эта последовательность последовательностью Фибоначчи. \n",
    "Последовательность Фибоначчи начинается с 0 и 1, и каждое следующее число является суммой двух предыдущих.\"\"\"\n",
    "from collections.abc import Sequence\n",
    "\n",
    "def generate_fibonacci(n: int) -> list:\n",
    "    \"\"\"Генерирует последовательность Фибоначчи до n чисел.\"\"\"\n",
    "    if n <= 0:\n",
    "        return []\n",
    "    elif n == 1:\n",
    "        return [0]\n",
    "    elif n == 2:\n",
    "        return [0, 1]\n",
    "    \n",
    "    fib_sequence = [0, 1]\n",
    "    for _ in range(2, n):\n",
    "        fib_sequence.append(fib_sequence[-1] + fib_sequence[-2])\n",
    "    \n",
    "    return fib_sequence\n",
    "\n",
    "def check_fibonacci(data: Sequence[int]) -> bool:\n",
    "    \"\"\"Проверяет, является ли последовательность частью последовательности Фибоначчи.\"\"\"\n",
    "    if len(data) < 2:\n",
    "        return False  #минимум 2 числа\n",
    "    \n",
    "    #генерируем последовательность Фибоначчи до нужного количества\n",
    "    fib_sequence = generate_fibonacci(len(data))\n",
    "    \n",
    "    #проверяем, совпадает ли переданная последовательность с последовательностью Фибоначчи\n",
    "    return data == fib_sequence[:len(data)]"
   ]
  },
  {
   "cell_type": "code",
   "execution_count": 9,
   "id": "4268a41b",
   "metadata": {},
   "outputs": [
    {
     "name": "stdout",
     "output_type": "stream",
     "text": [
      "True\n",
      "True\n",
      "True\n",
      "True\n",
      "True\n",
      "False\n",
      "False\n",
      "True\n"
     ]
    }
   ],
   "source": [
    "#примеры\n",
    "print(check_fibonacci([0, 1]))  \n",
    "print(check_fibonacci([0, 1, 1]))  \n",
    "print(check_fibonacci([0, 1, 1, 2])) \n",
    "print(check_fibonacci([0, 1, 1, 2, 3, 5, 8])) \n",
    "print(check_fibonacci([0, 1, 1, 2, 3, 5, 8, 13]))  \n",
    "print(check_fibonacci([1, 1, 2]))  \n",
    "print(check_fibonacci([0, 2, 3, 5, 8]))  \n",
    "print(check_fibonacci([0, 1, 1, 2, 3, 5, 8, 13, 21, 34, 55, 89, 144, 233, 377, 610, 987, 1597, 2584, 4181, 6765, 10946, 17711]))  "
   ]
  },
  {
   "cell_type": "code",
   "execution_count": null,
   "id": "b09fb063",
   "metadata": {},
   "outputs": [],
   "source": []
  }
 ],
 "metadata": {
  "kernelspec": {
   "display_name": "Python 3 (ipykernel)",
   "language": "python",
   "name": "python3"
  },
  "language_info": {
   "codemirror_mode": {
    "name": "ipython",
    "version": 3
   },
   "file_extension": ".py",
   "mimetype": "text/x-python",
   "name": "python",
   "nbconvert_exporter": "python",
   "pygments_lexer": "ipython3",
   "version": "3.11.5"
  }
 },
 "nbformat": 4,
 "nbformat_minor": 5
}
