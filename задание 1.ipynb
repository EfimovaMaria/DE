{
 "cells": [
  {
   "cell_type": "code",
   "execution_count": 1,
   "id": "483c9c43",
   "metadata": {},
   "outputs": [
    {
     "name": "stdout",
     "output_type": "stream",
     "text": [
      "Homework: Math assignment, Created at: 2025-03-04 19:24:23.738778, Deadline: 2025-03-07 19:24:23.738778\n",
      "You are late\n"
     ]
    }
   ],
   "source": [
    "from datetime import datetime, timedelta\n",
    "\n",
    "\n",
    "class Homework:\n",
    "    def __init__(self, text, days):\n",
    "        self.text = text\n",
    "        self.deadline = timedelta(days=days)\n",
    "        self.created = datetime.now()\n",
    "\n",
    "    def is_active(self):\n",
    "        return datetime.now() < self.created + self.deadline\n",
    "\n",
    "\n",
    "class Student:\n",
    "    def __init__(self, last_name, first_name):\n",
    "        self.last_name = last_name\n",
    "        self.first_name = first_name\n",
    "\n",
    "        if homework.is_active():\n",
    "            return homework\n",
    "        else:\n",
    "            print(\"You are late\")\n",
    "            return None\n",
    "\n",
    "\n",
    "class Teacher:\n",
    "    def __init__(self, last_name, first_name):\n",
    "        self.last_name = last_name\n",
    "        self.first_name = first_name\n",
    "\n",
    "    def create_homework(self, text, days):\n",
    "        \"\"\"Создает экземпляр Homework.\"\"\"\n",
    "        return Homework(text, days)\n",
    "\n",
    "\n",
    "# Пример использования классов\n",
    "if __name__ == \"__main__\":\n",
    "    teacher = Teacher(\"Ivanov\", \"Ivan\")\n",
    "    homework = teacher.create_homework(\"Math assignment\", 3)\n",
    "\n",
    "    student = Student(\"Petrov\", \"Petr\")\n",
    "    result = student.do_homework(homework)\n",
    "\n",
    "    if result:\n",
    "        print(f\"Homework: {result.text}, Created at: {result.created}, Deadline: {result.created + result.deadline}\")        \n",
    "        \n",
    "        \n",
    "        \n",
    "if __name__ == '__main__':\n",
    "    teacher = Teacher('Daniil', 'Shadrin')\n",
    "    student = Student('Roman', 'Petrov')\n",
    "    teacher.last_name  # Daniil\n",
    "    student.first_name  # Petrov\n",
    "\n",
    "    expired_homework = teacher.create_homework('Learn functions', 0)\n",
    "    expired_homework.created  # Example: 2019-05-26 16:44:30.688762\n",
    "    expired_homework.deadline  # 0:00:00\n",
    "    expired_homework.text  # 'Learn functions'\n",
    "\n",
    "    # create function from method and use it\n",
    "    create_homework_too = teacher.create_homework\n",
    "    oop_homework = create_homework_too('create 2 simple classes', 5)\n",
    "    oop_homework.deadline  # 5 days, 0:00:00\n",
    "\n",
    "    student.do_homework(oop_homework)\n",
    "    student.do_homework(expired_homework)  # You are late"
   ]
  }
 ],
 "metadata": {
  "kernelspec": {
   "display_name": "Python 3 (ipykernel)",
   "language": "python",
   "name": "python3"
  },
  "language_info": {
   "codemirror_mode": {
    "name": "ipython",
    "version": 3
   },
   "file_extension": ".py",
   "mimetype": "text/x-python",
   "name": "python",
   "nbconvert_exporter": "python",
   "pygments_lexer": "ipython3",
   "version": "3.11.5"
  }
 },
 "nbformat": 4,
 "nbformat_minor": 5
}
