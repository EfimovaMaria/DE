{
 "cells": [
  {
   "cell_type": "code",
   "execution_count": 3,
   "id": "0f4f080f",
   "metadata": {},
   "outputs": [
    {
     "name": "stdout",
     "output_type": "stream",
     "text": [
      "3\n",
      "True\n",
      "('Yeltsin', 999, 'Russia')\n",
      "('Big Man Tyrone', 101, 'Kekistan')\n",
      "('Trump', 1337, 'US')\n",
      "('Yeltsin', 999, 'Russia')\n"
     ]
    }
   ],
   "source": [
    "import sqlite3\n",
    "\n",
    "class TableData:\n",
    "    def __init__(self, database_name: str, table_name: str):\n",
    "        self.database_name = database_name\n",
    "        self.table_name = table_name\n",
    "        self.conn = sqlite3.connect(self.database_name)\n",
    "        self.cursor = self.conn.cursor()\n",
    "\n",
    "    def __len__(self):\n",
    "        self.cursor.execute(f'SELECT count(*) FROM {self.table_name}')\n",
    "        return self.cursor.fetchone()[0]\n",
    "\n",
    "    def __contains__(self, name: str) -> bool:\n",
    "        self.cursor.execute(f'SELECT 1 FROM {self.table_name} WHERE name = :name', {'name': name})\n",
    "        return self.cursor.fetchone() is not None\n",
    "\n",
    "    def __getitem__(self, name: str):\n",
    "        self.cursor.execute(f'SELECT * FROM {self.table_name} WHERE name = :name', {'name': name})\n",
    "        row = self.cursor.fetchone()\n",
    "        if row is None:\n",
    "            raise KeyError(f'No record found for name: {name}')\n",
    "        return row\n",
    "\n",
    "    def __iter__(self):\n",
    "        self.cursor.execute(f'SELECT * FROM {self.table_name} ORDER BY name')\n",
    "        for row in self.cursor:\n",
    "            yield row\n",
    "\n",
    "    def close(self):\n",
    "        self.cursor.close()\n",
    "        self.conn.close()\n",
    "\n",
    "#пример\n",
    "if __name__ == \"__main__\":\n",
    "    presidents = TableData(database_name='example.sqlite', table_name='presidents')\n",
    "\n",
    "    print(len(presidents))  #количество записей\n",
    "    print('Yeltsin' in presidents)  #проверка наличия\n",
    "    print(presidents['Yeltsin'])  #получение записи\n",
    "\n",
    "    for president in presidents:  #итерация по записям\n",
    "        print(president)\n",
    "\n",
    "    presidents.close()  #закрытие соединения"
   ]
  },
  {
   "cell_type": "code",
   "execution_count": null,
   "id": "afa6ef75",
   "metadata": {},
   "outputs": [],
   "source": []
  }
 ],
 "metadata": {
  "kernelspec": {
   "display_name": "Python 3 (ipykernel)",
   "language": "python",
   "name": "python3"
  },
  "language_info": {
   "codemirror_mode": {
    "name": "ipython",
    "version": 3
   },
   "file_extension": ".py",
   "mimetype": "text/x-python",
   "name": "python",
   "nbconvert_exporter": "python",
   "pygments_lexer": "ipython3",
   "version": "3.11.5"
  }
 },
 "nbformat": 4,
 "nbformat_minor": 5
}
