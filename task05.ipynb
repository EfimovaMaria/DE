{
 "cells": [
  {
   "cell_type": "code",
   "execution_count": 3,
   "id": "9010a8e1",
   "metadata": {},
   "outputs": [],
   "source": [
    "\"\"\"нужно реализовать функцию find_maximal_subarray_sum,\n",
    "которая находит подмассив длиной не более k с максимальной суммой и возвращает эту сумму.\"\"\"\n",
    "\n",
    "from typing import List\n",
    "\n",
    "\n",
    "def find_maximal_subarray_sum(nums: List[int], k: int) -> int:\n",
    "    n = len(nums)\n",
    "    if n == 0 or k <= 0:\n",
    "        return 0\n",
    "    \n",
    "    max_sum = float('-inf')  #задаем максимальную сумму\n",
    "    current_sum = 0  #сумма подмассива\n",
    "    window_start = 0  #начало окна\n",
    "\n",
    "    for window_end in range(n):\n",
    "        current_sum += nums[window_end]  #добавляем текущий элемент к текущей сумме\n",
    "\n",
    "        #если длина окна превышает k, вычитаем элемент, который выходит за пределы окна\n",
    "        if window_end >= k:\n",
    "            current_sum -= nums[window_start]\n",
    "            window_start += 1  #сдвигаем начало окна вправо\n",
    "\n",
    "        #обновляем максимальную сумму\n",
    "        max_sum = max(max_sum, current_sum)\n",
    "\n",
    "    return max_sum"
   ]
  },
  {
   "cell_type": "code",
   "execution_count": 4,
   "id": "3e2def71",
   "metadata": {},
   "outputs": [
    {
     "name": "stdout",
     "output_type": "stream",
     "text": [
      "16\n"
     ]
    }
   ],
   "source": [
    "#примеры\n",
    "nums = [1, 3, -1, -3, 5, 3, 6, 7]\n",
    "k = 3\n",
    "result = find_maximal_subarray_sum(nums, k)\n",
    "print(result)  #вывод: 16"
   ]
  }
 ],
 "metadata": {
  "kernelspec": {
   "display_name": "Python 3 (ipykernel)",
   "language": "python",
   "name": "python3"
  },
  "language_info": {
   "codemirror_mode": {
    "name": "ipython",
    "version": 3
   },
   "file_extension": ".py",
   "mimetype": "text/x-python",
   "name": "python",
   "nbconvert_exporter": "python",
   "pygments_lexer": "ipython3",
   "version": "3.11.5"
  }
 },
 "nbformat": 4,
 "nbformat_minor": 5
}
