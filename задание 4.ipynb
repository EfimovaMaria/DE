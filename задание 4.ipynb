{
 "cells": [
  {
   "cell_type": "code",
   "execution_count": 2,
   "id": "4d696018",
   "metadata": {},
   "outputs": [
    {
     "name": "stdout",
     "output_type": "stream",
     "text": [
      "https://markets.businessinsider.com/stocks/mmm-stock\n",
      "https://markets.businessinsider.com/stocks/aos-stock\n",
      "https://markets.businessinsider.com/stocks/abt-stock\n",
      "https://markets.businessinsider.com/stocks/abbv-stock\n",
      "https://markets.businessinsider.com/stocks/acn-stock\n",
      "https://markets.businessinsider.com/stocks/adbe-stock\n",
      "https://markets.businessinsider.com/stocks/aes-stock\n",
      "https://markets.businessinsider.com/stocks/afl-stock\n",
      "https://markets.businessinsider.com/stocks/a-stock\n",
      "https://markets.businessinsider.com/stocks/apd-stock\n",
      "https://markets.businessinsider.com/stocks/abnb-stock\n",
      "https://markets.businessinsider.com/stocks/akam-stock\n",
      "https://markets.businessinsider.com/stocks/alb-stock\n",
      "https://markets.businessinsider.com/stocks/are-stock\n",
      "https://markets.businessinsider.com/stocks/algn-stock\n",
      "https://markets.businessinsider.com/stocks/alle-stock\n",
      "https://markets.businessinsider.com/stocks/lnt-stock\n",
      "https://markets.businessinsider.com/stocks/all-stock\n",
      "https://markets.businessinsider.com/stocks/googl-stock\n",
      "https://markets.businessinsider.com/stocks/goog-stock\n",
      "https://markets.businessinsider.com/stocks/mo-stock\n",
      "https://markets.businessinsider.com/stocks/amzn-stock\n",
      "https://markets.businessinsider.com/stocks/amcr-stock\n",
      "https://markets.businessinsider.com/stocks/amd-stock\n",
      "https://markets.businessinsider.com/stocks/aee-stock\n",
      "https://markets.businessinsider.com/stocks/aep-stock\n",
      "https://markets.businessinsider.com/stocks/axp-stock\n",
      "https://markets.businessinsider.com/stocks/aig-stock\n",
      "https://markets.businessinsider.com/stocks/amt-stock\n",
      "https://markets.businessinsider.com/stocks/awk-stock\n",
      "https://markets.businessinsider.com/stocks/amp-stock\n",
      "https://markets.businessinsider.com/stocks/ame-stock\n",
      "https://markets.businessinsider.com/stocks/amgn-stock\n",
      "https://markets.businessinsider.com/stocks/aph-stock\n",
      "https://markets.businessinsider.com/stocks/adi-stock\n",
      "https://markets.businessinsider.com/stocks/anss-stock\n",
      "https://markets.businessinsider.com/stocks/aon-stock\n",
      "https://markets.businessinsider.com/stocks/apa-stock\n",
      "https://markets.businessinsider.com/stocks/aapl-stock\n",
      "https://markets.businessinsider.com/stocks/amat-stock\n",
      "https://markets.businessinsider.com/stocks/adm-stock\n",
      "https://markets.businessinsider.com/stocks/ajg-stock\n",
      "https://markets.businessinsider.com/stocks/aiz-stock\n",
      "https://markets.businessinsider.com/stocks/t-stock\n",
      "https://markets.businessinsider.com/stocks/ato-stock\n",
      "https://markets.businessinsider.com/stocks/adsk-stock\n"
     ]
    }
   ],
   "source": [
    "import requests\n",
    "from bs4 import BeautifulSoup\n",
    "\n",
    "#URL страницы\n",
    "url = \"https://markets.businessinsider.com/index/components/s&p_500\"\n",
    "\n",
    "#отправка HTTP-запроса\n",
    "response = requests.get(url)\n",
    "\n",
    "#проверка успешности запроса\n",
    "if response.status_code == 200:\n",
    "    #создание объекта BeautifulSoup\n",
    "    soup = BeautifulSoup(response.text, 'html.parser')\n",
    "    \n",
    "    #извлечение таблицы\n",
    "    table = soup.find('table', class_='table__layout--fixed')\n",
    "    \n",
    "    #список для хранения\n",
    "    full_links = []\n",
    "    \n",
    "    #извлечение всех ссылок из таблицы\n",
    "    if table:\n",
    "        for row in table.tbody.find_all('tr'):\n",
    "            cols = row.find_all('td')\n",
    "            if cols:\n",
    "                link = cols[0].find('a')\n",
    "                if link and 'href' in link.attrs:\n",
    "                    href = link['href']\n",
    "                    full_link = f\"https://markets.businessinsider.com{href}\"\n",
    "                    full_links.append(full_link)\n",
    "\n",
    "    \n",
    "for link in full_links:\n",
    "    print(link)"
   ]
  },
  {
   "cell_type": "code",
   "execution_count": null,
   "id": "b3cfa730",
   "metadata": {},
   "outputs": [],
   "source": []
  }
 ],
 "metadata": {
  "kernelspec": {
   "display_name": "Python 3 (ipykernel)",
   "language": "python",
   "name": "python3"
  },
  "language_info": {
   "codemirror_mode": {
    "name": "ipython",
    "version": 3
   },
   "file_extension": ".py",
   "mimetype": "text/x-python",
   "name": "python",
   "nbconvert_exporter": "python",
   "pygments_lexer": "ipython3",
   "version": "3.11.5"
  }
 },
 "nbformat": 4,
 "nbformat_minor": 5
}
