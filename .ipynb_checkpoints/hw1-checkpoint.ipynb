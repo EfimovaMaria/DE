{
 "cells": [
  {
   "cell_type": "code",
   "execution_count": null,
   "id": "8cc3eb0d",
   "metadata": {},
   "outputs": [],
   "source": [
    "\"\"\"\n",
    "Given a file containing text. Complete using only default collections:\n",
    "    1) Find 10 longest words consisting from largest amount of unique symbols\n",
    "    2) Find rarest symbol for document\n",
    "    3) Count every punctuation char\n",
    "    4) Count every non ascii char\n",
    "    5) Find most common non ascii char for document\n",
    "\"\"\"\n",
    "from typing import List\n",
    "from collections import Counter\n",
    "import string\n",
    "\n",
    "def get_longest_diverse_words(file_path: str) -> List[str]:\n",
    "    with open(file_path, 'r', encoding='utf-8') as file:\n",
    "        text = file.read()\n",
    "    \n",
    "    words = text.split()\n",
    "    # Сортируем слова по длине и количеству уникальных символов\n",
    "    unique_words = sorted(words, key=lambda w: (-len(w), -len(set(w))))\n",
    "    return unique_words[:10]  # Возвращаем 10 самых длинных слов\n",
    "\n",
    "def get_rarest_char(file_path: str) -> str:\n",
    "    with open(file_path, 'r', encoding='utf-8') as file:\n",
    "        text = file.read()\n",
    "    \n",
    "    char_count = Counter(text)\n",
    "    # Находим символ с минимальным количеством вхождений\n",
    "    rarest_char = min(char_count, key=char_count.get)\n",
    "    return rarest_char\n",
    "\n",
    "def count_punctuation_chars(file_path: str) -> int:\n",
    "    with open(file_path, 'r', encoding='utf-8') as file:\n",
    "        text = file.read()\n",
    "    \n",
    "    punctuation_count = sum(1 for char in text if char in string.punctuation)\n",
    "    return punctuation_count\n",
    "\n",
    "def count_non_ascii_chars(file_path: str) -> int:\n",
    "    with open(file_path, 'r', encoding='utf-8') as file:\n",
    "        text = file.read()\n",
    "    \n",
    "    non_ascii_count = sum(1 for char in text if ord(char) > 127)\n",
    "    return non_ascii_count\n",
    "\n",
    "def get_most_common_non_ascii_char(file_path: str) -> str:\n",
    "    with open(file_path, 'r', encoding='utf-8') as file:\n",
    "        text = file.read()\n",
    "    \n",
    "    non_ascii_chars = [char for char in text if ord(char) > 127]\n",
    "    if not non_ascii_chars:\n",
    "        return ''  # Если нет не ASCII символов, возвращаем пустую строку\n",
    "    \n",
    "    char_count = Counter(non_ascii_chars)\n",
    "    most_common_char = char_count.most_common(1)[0][0]\n",
    "    return most_common_char"
   ]
  }
 ],
 "metadata": {
  "kernelspec": {
   "display_name": "Python 3 (ipykernel)",
   "language": "python",
   "name": "python3"
  },
  "language_info": {
   "codemirror_mode": {
    "name": "ipython",
    "version": 3
   },
   "file_extension": ".py",
   "mimetype": "text/x-python",
   "name": "python",
   "nbconvert_exporter": "python",
   "pygments_lexer": "ipython3",
   "version": "3.11.5"
  }
 },
 "nbformat": 4,
 "nbformat_minor": 5
}
